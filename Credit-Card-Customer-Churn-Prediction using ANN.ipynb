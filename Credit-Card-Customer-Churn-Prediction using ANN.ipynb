{
 "cells": [
  {
   "cell_type": "code",
   "execution_count": 1,
   "metadata": {
    "_cell_guid": "b1076dfc-b9ad-4769-8c92-a6c4dae69d19",
    "_uuid": "8f2839f25d086af736a60e9eeb907d3b93b6e0e5",
    "execution": {
     "iopub.execute_input": "2022-03-06T03:32:33.905991Z",
     "iopub.status.busy": "2022-03-06T03:32:33.905585Z",
     "iopub.status.idle": "2022-03-06T03:32:33.939484Z",
     "shell.execute_reply": "2022-03-06T03:32:33.938880Z",
     "shell.execute_reply.started": "2022-03-06T03:32:33.905892Z"
    }
   },
   "outputs": [
    {
     "name": "stdout",
     "output_type": "stream",
     "text": [
      "/kaggle/input/credit-card-customer-churn-prediction/Churn_Modelling.csv\n"
     ]
    }
   ],
   "source": [
    
    
    "import numpy as np \n",
    "import pandas as pd \n",
    "\n",
    "import os\n",
    "for dirname, _, filenames in os.walk('/kaggle/input'):\n",
    "    for filename in filenames:\n",
    "        print(os.path.join(dirname, filename))\n",
    "\n",
   
   ]
  },
  {
   "cell_type": "code",
   "execution_count": 2,
   "metadata": {
    "execution": {
     "iopub.execute_input": "2022-03-06T03:32:56.586925Z",
     "iopub.status.busy": "2022-03-06T03:32:56.586618Z",
     "iopub.status.idle": "2022-03-06T03:32:56.633466Z",
     "shell.execute_reply": "2022-03-06T03:32:56.632634Z",
     "shell.execute_reply.started": "2022-03-06T03:32:56.586892Z"
    }
   },
   "outputs": [],
   "source": [
    "df = pd.read_csv('/kaggle/input/credit-card-customer-churn-prediction/Churn_Modelling.csv')"
   ]
  },
  {
   "cell_type": "code",
   "execution_count": 3,
   "metadata": {
    "execution": {
     "iopub.execute_input": "2022-03-06T03:33:04.565582Z",
     "iopub.status.busy": "2022-03-06T03:33:04.565302Z",
     "iopub.status.idle": "2022-03-06T03:33:04.590711Z",
     "shell.execute_reply": "2022-03-06T03:33:04.590106Z",
     "shell.execute_reply.started": "2022-03-06T03:33:04.565552Z"
    }
   },
   "outputs": [
    {
     "data": {
      "text/html": [
       "<div>\n",
       "<style scoped>\n",
       "    .dataframe tbody tr th:only-of-type {\n",
       "        vertical-align: middle;\n",
       "    }\n",
       "\n",
       "    .dataframe tbody tr th {\n",
       "        vertical-align: top;\n",
       "    }\n",
       "\n",
       "    .dataframe thead th {\n",
       "        text-align: right;\n",
       "    }\n",
       "</style>\n",
       "<table border=\"1\" class=\"dataframe\">\n",
       "  <thead>\n",
       "    <tr style=\"text-align: right;\">\n",
       "      <th></th>\n",
       "      <th>RowNumber</th>\n",
       "      <th>CustomerId</th>\n",
       "      <th>Surname</th>\n",
       "      <th>CreditScore</th>\n",
       "      <th>Geography</th>\n",
       "      <th>Gender</th>\n",
       "      <th>Age</th>\n",
       "      <th>Tenure</th>\n",
       "      <th>Balance</th>\n",
       "      <th>NumOfProducts</th>\n",
       "      <th>HasCrCard</th>\n",
       "      <th>IsActiveMember</th>\n",
       "      <th>EstimatedSalary</th>\n",
       "      <th>Exited</th>\n",
       "    </tr>\n",
       "  </thead>\n",
       "  <tbody>\n",
       "    <tr>\n",
       "      <th>0</th>\n",
       "      <td>1</td>\n",
       "      <td>15634602</td>\n",
       "      <td>Hargrave</td>\n",
       "      <td>619</td>\n",
       "      <td>France</td>\n",
       "      <td>Female</td>\n",
       "      <td>42</td>\n",
       "      <td>2</td>\n",
       "      <td>0.00</td>\n",
       "      <td>1</td>\n",
       "      <td>1</td>\n",
       "      <td>1</td>\n",
       "      <td>101348.88</td>\n",
       "      <td>1</td>\n",
       "    </tr>\n",
       "    <tr>\n",
       "      <th>1</th>\n",
       "      <td>2</td>\n",
       "      <td>15647311</td>\n",
       "      <td>Hill</td>\n",
       "      <td>608</td>\n",
       "      <td>Spain</td>\n",
       "      <td>Female</td>\n",
       "      <td>41</td>\n",
       "      <td>1</td>\n",
       "      <td>83807.86</td>\n",
       "      <td>1</td>\n",
       "      <td>0</td>\n",
       "      <td>1</td>\n",
       "      <td>112542.58</td>\n",
       "      <td>0</td>\n",
       "    </tr>\n",
       "    <tr>\n",
       "      <th>2</th>\n",
       "      <td>3</td>\n",
       "      <td>15619304</td>\n",
       "      <td>Onio</td>\n",
       "      <td>502</td>\n",
       "      <td>France</td>\n",
       "      <td>Female</td>\n",
       "      <td>42</td>\n",
       "      <td>8</td>\n",
       "      <td>159660.80</td>\n",
       "      <td>3</td>\n",
       "      <td>1</td>\n",
       "      <td>0</td>\n",
       "      <td>113931.57</td>\n",
       "      <td>1</td>\n",
       "    </tr>\n",
       "    <tr>\n",
       "      <th>3</th>\n",
       "      <td>4</td>\n",
       "      <td>15701354</td>\n",
       "      <td>Boni</td>\n",
       "      <td>699</td>\n",
       "      <td>France</td>\n",
       "      <td>Female</td>\n",
       "      <td>39</td>\n",
       "      <td>1</td>\n",
       "      <td>0.00</td>\n",
       "      <td>2</td>\n",
       "      <td>0</td>\n",
       "      <td>0</td>\n",
       "      <td>93826.63</td>\n",
       "      <td>0</td>\n",
       "    </tr>\n",
       "    <tr>\n",
       "      <th>4</th>\n",
       "      <td>5</td>\n",
       "      <td>15737888</td>\n",
       "      <td>Mitchell</td>\n",
       "      <td>850</td>\n",
       "      <td>Spain</td>\n",
       "      <td>Female</td>\n",
       "      <td>43</td>\n",
       "      <td>2</td>\n",
       "      <td>125510.82</td>\n",
       "      <td>1</td>\n",
       "      <td>1</td>\n",
       "      <td>1</td>\n",
       "      <td>79084.10</td>\n",
       "      <td>0</td>\n",
       "    </tr>\n",
       "  </tbody>\n",
       "</table>\n",
       "</div>"
      ],
      "text/plain": [
       "   RowNumber  CustomerId   Surname  CreditScore Geography  Gender  Age  \\\n",
       "0          1    15634602  Hargrave          619    France  Female   42   \n",
       "1          2    15647311      Hill          608     Spain  Female   41   \n",
       "2          3    15619304      Onio          502    France  Female   42   \n",
       "3          4    15701354      Boni          699    France  Female   39   \n",
       "4          5    15737888  Mitchell          850     Spain  Female   43   \n",
       "\n",
       "   Tenure    Balance  NumOfProducts  HasCrCard  IsActiveMember  \\\n",
       "0       2       0.00              1          1               1   \n",
       "1       1   83807.86              1          0               1   \n",
       "2       8  159660.80              3          1               0   \n",
       "3       1       0.00              2          0               0   \n",
       "4       2  125510.82              1          1               1   \n",
       "\n",
       "   EstimatedSalary  Exited  \n",
       "0        101348.88       1  \n",
       "1        112542.58       0  \n",
       "2        113931.57       1  \n",
       "3         93826.63       0  \n",
       "4         79084.10       0  "
      ]
     },
     "execution_count": 3,
     "metadata": {},
     "output_type": "execute_result"
    }
   ],
   "source": [
    "df.head()"
   ]
  },
  {
   "cell_type": "code",
   "execution_count": 4,
   "metadata": {
    "execution": {
     "iopub.execute_input": "2022-03-06T03:33:16.956409Z",
     "iopub.status.busy": "2022-03-06T03:33:16.956107Z",
     "iopub.status.idle": "2022-03-06T03:33:16.969099Z",
     "shell.execute_reply": "2022-03-06T03:33:16.968191Z",
     "shell.execute_reply.started": "2022-03-06T03:33:16.956376Z"
    }
   },
   "outputs": [],
   "source": [
    "df.drop(columns = ['RowNumber','CustomerId','Surname'],inplace=True)"
   ]
  },
  {
   "cell_type": "code",
   "execution_count": 5,
   "metadata": {
    "execution": {
     "iopub.execute_input": "2022-03-06T03:33:25.597651Z",
     "iopub.status.busy": "2022-03-06T03:33:25.596737Z",
     "iopub.status.idle": "2022-03-06T03:33:25.613054Z",
     "shell.execute_reply": "2022-03-06T03:33:25.612113Z",
     "shell.execute_reply.started": "2022-03-06T03:33:25.597603Z"
    }
   },
   "outputs": [
    {
     "data": {
      "text/html": [
       "<div>\n",
       "<style scoped>\n",
       "    .dataframe tbody tr th:only-of-type {\n",
       "        vertical-align: middle;\n",
       "    }\n",
       "\n",
       "    .dataframe tbody tr th {\n",
       "        vertical-align: top;\n",
       "    }\n",
       "\n",
       "    .dataframe thead th {\n",
       "        text-align: right;\n",
       "    }\n",
       "</style>\n",
       "<table border=\"1\" class=\"dataframe\">\n",
       "  <thead>\n",
       "    <tr style=\"text-align: right;\">\n",
       "      <th></th>\n",
       "      <th>CreditScore</th>\n",
       "      <th>Geography</th>\n",
       "      <th>Gender</th>\n",
       "      <th>Age</th>\n",
       "      <th>Tenure</th>\n",
       "      <th>Balance</th>\n",
       "      <th>NumOfProducts</th>\n",
       "      <th>HasCrCard</th>\n",
       "      <th>IsActiveMember</th>\n",
       "      <th>EstimatedSalary</th>\n",
       "      <th>Exited</th>\n",
       "    </tr>\n",
       "  </thead>\n",
       "  <tbody>\n",
       "    <tr>\n",
       "      <th>0</th>\n",
       "      <td>619</td>\n",
       "      <td>France</td>\n",
       "      <td>Female</td>\n",
       "      <td>42</td>\n",
       "      <td>2</td>\n",
       "      <td>0.00</td>\n",
       "      <td>1</td>\n",
       "      <td>1</td>\n",
       "      <td>1</td>\n",
       "      <td>101348.88</td>\n",
       "      <td>1</td>\n",
       "    </tr>\n",
       "    <tr>\n",
       "      <th>1</th>\n",
       "      <td>608</td>\n",
       "      <td>Spain</td>\n",
       "      <td>Female</td>\n",
       "      <td>41</td>\n",
       "      <td>1</td>\n",
       "      <td>83807.86</td>\n",
       "      <td>1</td>\n",
       "      <td>0</td>\n",
       "      <td>1</td>\n",
       "      <td>112542.58</td>\n",
       "      <td>0</td>\n",
       "    </tr>\n",
       "    <tr>\n",
       "      <th>2</th>\n",
       "      <td>502</td>\n",
       "      <td>France</td>\n",
       "      <td>Female</td>\n",
       "      <td>42</td>\n",
       "      <td>8</td>\n",
       "      <td>159660.80</td>\n",
       "      <td>3</td>\n",
       "      <td>1</td>\n",
       "      <td>0</td>\n",
       "      <td>113931.57</td>\n",
       "      <td>1</td>\n",
       "    </tr>\n",
       "    <tr>\n",
       "      <th>3</th>\n",
       "      <td>699</td>\n",
       "      <td>France</td>\n",
       "      <td>Female</td>\n",
       "      <td>39</td>\n",
       "      <td>1</td>\n",
       "      <td>0.00</td>\n",
       "      <td>2</td>\n",
       "      <td>0</td>\n",
       "      <td>0</td>\n",
       "      <td>93826.63</td>\n",
       "      <td>0</td>\n",
       "    </tr>\n",
       "    <tr>\n",
       "      <th>4</th>\n",
       "      <td>850</td>\n",
       "      <td>Spain</td>\n",
       "      <td>Female</td>\n",
       "      <td>43</td>\n",
       "      <td>2</td>\n",
       "      <td>125510.82</td>\n",
       "      <td>1</td>\n",
       "      <td>1</td>\n",
       "      <td>1</td>\n",
       "      <td>79084.10</td>\n",
       "      <td>0</td>\n",
       "    </tr>\n",
       "  </tbody>\n",
       "</table>\n",
       "</div>"
      ],
      "text/plain": [
       "   CreditScore Geography  Gender  Age  Tenure    Balance  NumOfProducts  \\\n",
       "0          619    France  Female   42       2       0.00              1   \n",
       "1          608     Spain  Female   41       1   83807.86              1   \n",
       "2          502    France  Female   42       8  159660.80              3   \n",
       "3          699    France  Female   39       1       0.00              2   \n",
       "4          850     Spain  Female   43       2  125510.82              1   \n",
       "\n",
       "   HasCrCard  IsActiveMember  EstimatedSalary  Exited  \n",
       "0          1               1        101348.88       1  \n",
       "1          0               1        112542.58       0  \n",
       "2          1               0        113931.57       1  \n",
       "3          0               0         93826.63       0  \n",
       "4          1               1         79084.10       0  "
      ]
     },
     "execution_count": 5,
     "metadata": {},
     "output_type": "execute_result"
    }
   ],
   "source": [
    "df.head()"
   ]
  },
  {
   "cell_type": "code",
   "execution_count": 6,
   "metadata": {
    "execution": {
     "iopub.execute_input": "2022-03-06T03:33:36.321542Z",
     "iopub.status.busy": "2022-03-06T03:33:36.320838Z",
     "iopub.status.idle": "2022-03-06T03:33:36.333826Z",
     "shell.execute_reply": "2022-03-06T03:33:36.333097Z",
     "shell.execute_reply.started": "2022-03-06T03:33:36.321507Z"
    }
   },
   "outputs": [
    {
     "data": {
      "text/plain": [
       "France     5014\n",
       "Germany    2509\n",
       "Spain      2477\n",
       "Name: Geography, dtype: int64"
      ]
     },
     "execution_count": 6,
     "metadata": {},
     "output_type": "execute_result"
    }
   ],
   "source": [
    "df['Geography'].value_counts()"
   ]
  },
  {
   "cell_type": "code",
   "execution_count": 7,
   "metadata": {
    "execution": {
     "iopub.execute_input": "2022-03-06T03:33:45.386793Z",
     "iopub.status.busy": "2022-03-06T03:33:45.385967Z",
     "iopub.status.idle": "2022-03-06T03:33:45.395330Z",
     "shell.execute_reply": "2022-03-06T03:33:45.394438Z",
     "shell.execute_reply.started": "2022-03-06T03:33:45.386756Z"
    }
   },
   "outputs": [
    {
     "data": {
      "text/plain": [
       "Male      5457\n",
       "Female    4543\n",
       "Name: Gender, dtype: int64"
      ]
     },
     "execution_count": 7,
     "metadata": {},
     "output_type": "execute_result"
    }
   ],
   "source": [
    "df['Gender'].value_counts()"
   ]
  },
  {
   "cell_type": "code",
   "execution_count": 8,
   "metadata": {
    "execution": {
     "iopub.execute_input": "2022-03-06T03:33:54.382275Z",
     "iopub.status.busy": "2022-03-06T03:33:54.381775Z",
     "iopub.status.idle": "2022-03-06T03:33:54.399399Z",
     "shell.execute_reply": "2022-03-06T03:33:54.398368Z",
     "shell.execute_reply.started": "2022-03-06T03:33:54.382234Z"
    }
   },
   "outputs": [],
   "source": [
    "df = pd.get_dummies(df,columns=['Geography','Gender'],drop_first=True)"
   ]
  },
  {
   "cell_type": "code",
   "execution_count": 9,
   "metadata": {
    "execution": {
     "iopub.execute_input": "2022-03-06T03:34:05.465611Z",
     "iopub.status.busy": "2022-03-06T03:34:05.465041Z",
     "iopub.status.idle": "2022-03-06T03:34:05.481994Z",
     "shell.execute_reply": "2022-03-06T03:34:05.481205Z",
     "shell.execute_reply.started": "2022-03-06T03:34:05.465567Z"
    }
   },
   "outputs": [
    {
     "data": {
      "text/html": [
       "<div>\n",
       "<style scoped>\n",
       "    .dataframe tbody tr th:only-of-type {\n",
       "        vertical-align: middle;\n",
       "    }\n",
       "\n",
       "    .dataframe tbody tr th {\n",
       "        vertical-align: top;\n",
       "    }\n",
       "\n",
       "    .dataframe thead th {\n",
       "        text-align: right;\n",
       "    }\n",
       "</style>\n",
       "<table border=\"1\" class=\"dataframe\">\n",
       "  <thead>\n",
       "    <tr style=\"text-align: right;\">\n",
       "      <th></th>\n",
       "      <th>CreditScore</th>\n",
       "      <th>Age</th>\n",
       "      <th>Tenure</th>\n",
       "      <th>Balance</th>\n",
       "      <th>NumOfProducts</th>\n",
       "      <th>HasCrCard</th>\n",
       "      <th>IsActiveMember</th>\n",
       "      <th>EstimatedSalary</th>\n",
       "      <th>Exited</th>\n",
       "      <th>Geography_Germany</th>\n",
       "      <th>Geography_Spain</th>\n",
       "      <th>Gender_Male</th>\n",
       "    </tr>\n",
       "  </thead>\n",
       "  <tbody>\n",
       "    <tr>\n",
       "      <th>0</th>\n",
       "      <td>619</td>\n",
       "      <td>42</td>\n",
       "      <td>2</td>\n",
       "      <td>0.00</td>\n",
       "      <td>1</td>\n",
       "      <td>1</td>\n",
       "      <td>1</td>\n",
       "      <td>101348.88</td>\n",
       "      <td>1</td>\n",
       "      <td>0</td>\n",
       "      <td>0</td>\n",
       "      <td>0</td>\n",
       "    </tr>\n",
       "    <tr>\n",
       "      <th>1</th>\n",
       "      <td>608</td>\n",
       "      <td>41</td>\n",
       "      <td>1</td>\n",
       "      <td>83807.86</td>\n",
       "      <td>1</td>\n",
       "      <td>0</td>\n",
       "      <td>1</td>\n",
       "      <td>112542.58</td>\n",
       "      <td>0</td>\n",
       "      <td>0</td>\n",
       "      <td>1</td>\n",
       "      <td>0</td>\n",
       "    </tr>\n",
       "    <tr>\n",
       "      <th>2</th>\n",
       "      <td>502</td>\n",
       "      <td>42</td>\n",
       "      <td>8</td>\n",
       "      <td>159660.80</td>\n",
       "      <td>3</td>\n",
       "      <td>1</td>\n",
       "      <td>0</td>\n",
       "      <td>113931.57</td>\n",
       "      <td>1</td>\n",
       "      <td>0</td>\n",
       "      <td>0</td>\n",
       "      <td>0</td>\n",
       "    </tr>\n",
       "    <tr>\n",
       "      <th>3</th>\n",
       "      <td>699</td>\n",
       "      <td>39</td>\n",
       "      <td>1</td>\n",
       "      <td>0.00</td>\n",
       "      <td>2</td>\n",
       "      <td>0</td>\n",
       "      <td>0</td>\n",
       "      <td>93826.63</td>\n",
       "      <td>0</td>\n",
       "      <td>0</td>\n",
       "      <td>0</td>\n",
       "      <td>0</td>\n",
       "    </tr>\n",
       "    <tr>\n",
       "      <th>4</th>\n",
       "      <td>850</td>\n",
       "      <td>43</td>\n",
       "      <td>2</td>\n",
       "      <td>125510.82</td>\n",
       "      <td>1</td>\n",
       "      <td>1</td>\n",
       "      <td>1</td>\n",
       "      <td>79084.10</td>\n",
       "      <td>0</td>\n",
       "      <td>0</td>\n",
       "      <td>1</td>\n",
       "      <td>0</td>\n",
       "    </tr>\n",
       "  </tbody>\n",
       "</table>\n",
       "</div>"
      ],
      "text/plain": [
       "   CreditScore  Age  Tenure    Balance  NumOfProducts  HasCrCard  \\\n",
       "0          619   42       2       0.00              1          1   \n",
       "1          608   41       1   83807.86              1          0   \n",
       "2          502   42       8  159660.80              3          1   \n",
       "3          699   39       1       0.00              2          0   \n",
       "4          850   43       2  125510.82              1          1   \n",
       "\n",
       "   IsActiveMember  EstimatedSalary  Exited  Geography_Germany  \\\n",
       "0               1        101348.88       1                  0   \n",
       "1               1        112542.58       0                  0   \n",
       "2               0        113931.57       1                  0   \n",
       "3               0         93826.63       0                  0   \n",
       "4               1         79084.10       0                  0   \n",
       "\n",
       "   Geography_Spain  Gender_Male  \n",
       "0                0            0  \n",
       "1                1            0  \n",
       "2                0            0  \n",
       "3                0            0  \n",
       "4                1            0  "
      ]
     },
     "execution_count": 9,
     "metadata": {},
     "output_type": "execute_result"
    }
   ],
   "source": [
    "df.head()"
   ]
  },
  {
   "cell_type": "code",
   "execution_count": 10,
   "metadata": {
    "execution": {
     "iopub.execute_input": "2022-03-06T03:34:15.211980Z",
     "iopub.status.busy": "2022-03-06T03:34:15.211214Z",
     "iopub.status.idle": "2022-03-06T03:34:16.378692Z",
     "shell.execute_reply": "2022-03-06T03:34:16.377875Z",
     "shell.execute_reply.started": "2022-03-06T03:34:15.211936Z"
    }
   },
   "outputs": [],
   "source": [
    "X = df.drop(columns=['Exited'])\n",
    "y = df['Exited'].values\n",
    "\n",
    "from sklearn.model_selection import train_test_split\n",
    "X_train,X_test,y_train,y_test = train_test_split(X,y,test_size=0.2,random_state=0)"
   ]
  },
  {
   "cell_type": "code",
   "execution_count": 11,
   "metadata": {
    "execution": {
     "iopub.execute_input": "2022-03-06T03:34:23.642185Z",
     "iopub.status.busy": "2022-03-06T03:34:23.641345Z",
     "iopub.status.idle": "2022-03-06T03:34:23.656143Z",
     "shell.execute_reply": "2022-03-06T03:34:23.655395Z",
     "shell.execute_reply.started": "2022-03-06T03:34:23.642134Z"
    }
   },
   "outputs": [],
   "source": [
    "from sklearn.preprocessing import StandardScaler\n",
    "scaler = StandardScaler()\n",
    "\n",
    "X_train_trf = scaler.fit_transform(X_train)\n",
    "X_test_trf = scaler.transform(X_test)"
   ]
  },
  {
   "cell_type": "code",
   "execution_count": 12,
   "metadata": {
    "execution": {
     "iopub.execute_input": "2022-03-06T03:34:31.132229Z",
     "iopub.status.busy": "2022-03-06T03:34:31.131533Z",
     "iopub.status.idle": "2022-03-06T03:34:37.435530Z",
     "shell.execute_reply": "2022-03-06T03:34:37.434835Z",
     "shell.execute_reply.started": "2022-03-06T03:34:31.132167Z"
    }
   },
   "outputs": [],
   "source": [
    "import tensorflow\n",
    "from tensorflow import keras\n",
    "from tensorflow.keras import Sequential \n",
    "from tensorflow.keras.layers import Dense"
   ]
  },
  {
   "cell_type": "code",
   "execution_count": 13,
   "metadata": {
    "execution": {
     "iopub.execute_input": "2022-03-06T03:34:37.826813Z",
     "iopub.status.busy": "2022-03-06T03:34:37.826320Z",
     "iopub.status.idle": "2022-03-06T03:34:37.947521Z",
     "shell.execute_reply": "2022-03-06T03:34:37.946580Z",
     "shell.execute_reply.started": "2022-03-06T03:34:37.826746Z"
    }
   },
   "outputs": [
    {
     "name": "stderr",
     "output_type": "stream",
     "text": [
      "2022-03-06 03:34:37.866181: I tensorflow/core/common_runtime/process_util.cc:146] Creating new thread pool with default inter op setting: 2. Tune using inter_op_parallelism_threads for best performance.\n"
     ]
    }
   ],
   "source": [
    "model = Sequential()\n",
    "\n",
    "model.add(Dense(11,activation='sigmoid',input_dim=11))\n",
    "model.add(Dense(11,activation='sigmoid'))\n",
    "model.add(Dense(1,activation='sigmoid'))"
   ]
  },
  {
   "cell_type": "code",
   "execution_count": 14,
   "metadata": {
    "execution": {
     "iopub.execute_input": "2022-03-06T03:34:51.251022Z",
     "iopub.status.busy": "2022-03-06T03:34:51.250291Z",
     "iopub.status.idle": "2022-03-06T03:34:51.258677Z",
     "shell.execute_reply": "2022-03-06T03:34:51.257596Z",
     "shell.execute_reply.started": "2022-03-06T03:34:51.250979Z"
    }
   },
   "outputs": [
    {
     "name": "stdout",
     "output_type": "stream",
     "text": [
      "Model: \"sequential\"\n",
      "_________________________________________________________________\n",
      "Layer (type)                 Output Shape              Param #   \n",
      "=================================================================\n",
      "dense (Dense)                (None, 11)                132       \n",
      "_________________________________________________________________\n",
      "dense_1 (Dense)              (None, 11)                132       \n",
      "_________________________________________________________________\n",
      "dense_2 (Dense)              (None, 1)                 12        \n",
      "=================================================================\n",
      "Total params: 276\n",
      "Trainable params: 276\n",
      "Non-trainable params: 0\n",
      "_________________________________________________________________\n"
     ]
    }
   ],
   "source": [
    "model.summary()"
   ]
  },
  {
   "cell_type": "code",
   "execution_count": 15,
   "metadata": {
    "execution": {
     "iopub.execute_input": "2022-03-06T03:34:59.301604Z",
     "iopub.status.busy": "2022-03-06T03:34:59.301333Z",
     "iopub.status.idle": "2022-03-06T03:34:59.315593Z",
     "shell.execute_reply": "2022-03-06T03:34:59.314884Z",
     "shell.execute_reply.started": "2022-03-06T03:34:59.301574Z"
    }
   },
   "outputs": [],
   "source": [
    "model.compile(optimizer='Adam',loss='binary_crossentropy',metrics=['accuracy'])"
   ]
  },
  {
   "cell_type": "code",
   "execution_count": 16,
   "metadata": {
    "execution": {
     "iopub.execute_input": "2022-03-06T03:35:50.902485Z",
     "iopub.status.busy": "2022-03-06T03:35:50.901904Z",
     "iopub.status.idle": "2022-03-06T03:36:19.455620Z",
     "shell.execute_reply": "2022-03-06T03:36:19.454726Z",
     "shell.execute_reply.started": "2022-03-06T03:35:50.902437Z"
    }
   },
   "outputs": [
    {
     "name": "stderr",
     "output_type": "stream",
     "text": [
      "2022-03-06 03:35:50.995597: I tensorflow/compiler/mlir/mlir_graph_optimization_pass.cc:185] None of the MLIR Optimization Passes are enabled (registered 2)\n"
     ]
    },
    {
     "name": "stdout",
     "output_type": "stream",
     "text": [
      "Epoch 1/100\n",
      "128/128 [==============================] - 1s 4ms/step - loss: 0.5658 - accuracy: 0.7883 - val_loss: 0.5106 - val_accuracy: 0.7969\n",
      "Epoch 2/100\n",
      "128/128 [==============================] - 0s 2ms/step - loss: 0.5067 - accuracy: 0.7958 - val_loss: 0.5028 - val_accuracy: 0.7969\n",
      "Epoch 3/100\n",
      "128/128 [==============================] - 0s 2ms/step - loss: 0.5040 - accuracy: 0.7958 - val_loss: 0.5013 - val_accuracy: 0.7969\n",
      "Epoch 4/100\n",
      "128/128 [==============================] - 0s 2ms/step - loss: 0.5029 - accuracy: 0.7958 - val_loss: 0.5006 - val_accuracy: 0.7969\n",
      "Epoch 5/100\n",
      "128/128 [==============================] - 0s 2ms/step - loss: 0.5028 - accuracy: 0.7958 - val_loss: 0.5002 - val_accuracy: 0.7969\n",
      "Epoch 6/100\n",
      "128/128 [==============================] - 0s 2ms/step - loss: 0.5029 - accuracy: 0.7958 - val_loss: 0.4992 - val_accuracy: 0.7969\n",
      "Epoch 7/100\n",
      "128/128 [==============================] - 0s 2ms/step - loss: 0.5028 - accuracy: 0.7958 - val_loss: 0.4982 - val_accuracy: 0.7969\n",
      "Epoch 8/100\n",
      "128/128 [==============================] - 0s 2ms/step - loss: 0.5028 - accuracy: 0.7958 - val_loss: 0.4977 - val_accuracy: 0.7969\n",
      "Epoch 9/100\n",
      "128/128 [==============================] - 0s 2ms/step - loss: 0.5017 - accuracy: 0.7958 - val_loss: 0.4967 - val_accuracy: 0.7969\n",
      "Epoch 10/100\n",
      "128/128 [==============================] - 0s 3ms/step - loss: 0.5010 - accuracy: 0.7958 - val_loss: 0.4962 - val_accuracy: 0.7969\n",
      "Epoch 11/100\n",
      "128/128 [==============================] - 0s 2ms/step - loss: 0.5007 - accuracy: 0.7958 - val_loss: 0.4960 - val_accuracy: 0.7969\n",
      "Epoch 12/100\n",
      "128/128 [==============================] - 0s 2ms/step - loss: 0.5006 - accuracy: 0.7958 - val_loss: 0.4958 - val_accuracy: 0.7969\n",
      "Epoch 13/100\n",
      "128/128 [==============================] - 0s 2ms/step - loss: 0.5003 - accuracy: 0.7958 - val_loss: 0.4954 - val_accuracy: 0.7969\n",
      "Epoch 14/100\n",
      "128/128 [==============================] - 0s 2ms/step - loss: 0.5001 - accuracy: 0.7958 - val_loss: 0.4953 - val_accuracy: 0.7969\n",
      "Epoch 15/100\n",
      "128/128 [==============================] - 0s 2ms/step - loss: 0.5000 - accuracy: 0.7958 - val_loss: 0.4953 - val_accuracy: 0.7969\n",
      "Epoch 16/100\n",
      "128/128 [==============================] - 0s 2ms/step - loss: 0.4999 - accuracy: 0.7958 - val_loss: 0.4950 - val_accuracy: 0.7969\n",
      "Epoch 17/100\n",
      "128/128 [==============================] - 0s 2ms/step - loss: 0.4997 - accuracy: 0.7958 - val_loss: 0.4953 - val_accuracy: 0.7969\n",
      "Epoch 18/100\n",
      "128/128 [==============================] - 0s 2ms/step - loss: 0.4995 - accuracy: 0.7958 - val_loss: 0.4950 - val_accuracy: 0.7969\n",
      "Epoch 19/100\n",
      "128/128 [==============================] - 0s 2ms/step - loss: 0.4995 - accuracy: 0.7958 - val_loss: 0.4949 - val_accuracy: 0.7969\n",
      "Epoch 20/100\n",
      "128/128 [==============================] - 0s 2ms/step - loss: 0.4995 - accuracy: 0.7958 - val_loss: 0.4950 - val_accuracy: 0.7969\n",
      "Epoch 21/100\n",
      "128/128 [==============================] - 0s 2ms/step - loss: 0.4995 - accuracy: 0.7958 - val_loss: 0.4948 - val_accuracy: 0.7969\n",
      "Epoch 22/100\n",
      "128/128 [==============================] - 0s 2ms/step - loss: 0.4992 - accuracy: 0.7958 - val_loss: 0.4948 - val_accuracy: 0.7969\n",
      "Epoch 23/100\n",
      "128/128 [==============================] - 0s 2ms/step - loss: 0.4993 - accuracy: 0.7958 - val_loss: 0.4948 - val_accuracy: 0.7969\n",
      "Epoch 24/100\n",
      "128/128 [==============================] - 0s 2ms/step - loss: 0.4993 - accuracy: 0.7958 - val_loss: 0.4948 - val_accuracy: 0.7969\n",
      "Epoch 25/100\n",
      "128/128 [==============================] - 0s 2ms/step - loss: 0.4992 - accuracy: 0.7958 - val_loss: 0.4947 - val_accuracy: 0.7969\n",
      "Epoch 26/100\n",
      "128/128 [==============================] - 0s 2ms/step - loss: 0.4991 - accuracy: 0.7958 - val_loss: 0.4947 - val_accuracy: 0.7969\n",
      "Epoch 27/100\n",
      "128/128 [==============================] - 0s 2ms/step - loss: 0.4991 - accuracy: 0.7958 - val_loss: 0.4947 - val_accuracy: 0.7969\n",
      "Epoch 28/100\n",
      "128/128 [==============================] - 0s 2ms/step - loss: 0.4992 - accuracy: 0.7958 - val_loss: 0.4947 - val_accuracy: 0.7969\n",
      "Epoch 29/100\n",
      "128/128 [==============================] - 0s 2ms/step - loss: 0.4991 - accuracy: 0.7958 - val_loss: 0.4947 - val_accuracy: 0.7969\n",
      "Epoch 30/100\n",
      "128/128 [==============================] - 0s 2ms/step - loss: 0.4990 - accuracy: 0.7958 - val_loss: 0.4947 - val_accuracy: 0.7969\n",
      "Epoch 31/100\n",
      "128/128 [==============================] - 0s 2ms/step - loss: 0.4991 - accuracy: 0.7958 - val_loss: 0.4946 - val_accuracy: 0.7969\n",
      "Epoch 32/100\n",
      "128/128 [==============================] - 0s 2ms/step - loss: 0.4989 - accuracy: 0.7958 - val_loss: 0.4948 - val_accuracy: 0.7969\n",
      "Epoch 33/100\n",
      "128/128 [==============================] - 0s 2ms/step - loss: 0.4990 - accuracy: 0.7958 - val_loss: 0.4946 - val_accuracy: 0.7969\n",
      "Epoch 34/100\n",
      "128/128 [==============================] - 0s 2ms/step - loss: 0.4991 - accuracy: 0.7958 - val_loss: 0.4946 - val_accuracy: 0.7969\n",
      "Epoch 35/100\n",
      "128/128 [==============================] - 0s 2ms/step - loss: 0.4991 - accuracy: 0.7958 - val_loss: 0.4946 - val_accuracy: 0.7969\n",
      "Epoch 36/100\n",
      "128/128 [==============================] - 0s 2ms/step - loss: 0.4990 - accuracy: 0.7958 - val_loss: 0.4948 - val_accuracy: 0.7969\n",
      "Epoch 37/100\n",
      "128/128 [==============================] - 0s 2ms/step - loss: 0.4990 - accuracy: 0.7958 - val_loss: 0.4946 - val_accuracy: 0.7969\n",
      "Epoch 38/100\n",
      "128/128 [==============================] - 0s 2ms/step - loss: 0.4991 - accuracy: 0.7958 - val_loss: 0.4947 - val_accuracy: 0.7969\n",
      "Epoch 39/100\n",
      "128/128 [==============================] - 0s 2ms/step - loss: 0.4988 - accuracy: 0.7958 - val_loss: 0.4950 - val_accuracy: 0.7969\n",
      "Epoch 40/100\n",
      "128/128 [==============================] - 0s 2ms/step - loss: 0.4990 - accuracy: 0.7958 - val_loss: 0.4948 - val_accuracy: 0.7969\n",
      "Epoch 41/100\n",
      "128/128 [==============================] - 0s 2ms/step - loss: 0.4990 - accuracy: 0.7958 - val_loss: 0.4946 - val_accuracy: 0.7969\n",
      "Epoch 42/100\n",
      "128/128 [==============================] - 0s 2ms/step - loss: 0.4989 - accuracy: 0.7958 - val_loss: 0.4946 - val_accuracy: 0.7969\n",
      "Epoch 43/100\n",
      "128/128 [==============================] - 0s 2ms/step - loss: 0.4992 - accuracy: 0.7958 - val_loss: 0.4946 - val_accuracy: 0.7969\n",
      "Epoch 44/100\n",
      "128/128 [==============================] - 0s 2ms/step - loss: 0.4989 - accuracy: 0.7958 - val_loss: 0.4948 - val_accuracy: 0.7969\n",
      "Epoch 45/100\n",
      "128/128 [==============================] - 0s 2ms/step - loss: 0.4990 - accuracy: 0.7958 - val_loss: 0.4947 - val_accuracy: 0.7969\n",
      "Epoch 46/100\n",
      "128/128 [==============================] - 0s 2ms/step - loss: 0.4990 - accuracy: 0.7958 - val_loss: 0.4948 - val_accuracy: 0.7969\n",
      "Epoch 47/100\n",
      "128/128 [==============================] - 0s 2ms/step - loss: 0.4991 - accuracy: 0.7958 - val_loss: 0.4947 - val_accuracy: 0.7969\n",
      "Epoch 48/100\n",
      "128/128 [==============================] - 0s 2ms/step - loss: 0.4990 - accuracy: 0.7958 - val_loss: 0.4947 - val_accuracy: 0.7969\n",
      "Epoch 49/100\n",
      "128/128 [==============================] - 0s 2ms/step - loss: 0.4989 - accuracy: 0.7958 - val_loss: 0.4950 - val_accuracy: 0.7969\n",
      "Epoch 50/100\n",
      "128/128 [==============================] - 0s 2ms/step - loss: 0.4989 - accuracy: 0.7958 - val_loss: 0.4949 - val_accuracy: 0.7969\n",
      "Epoch 51/100\n",
      "128/128 [==============================] - 0s 3ms/step - loss: 0.4990 - accuracy: 0.7958 - val_loss: 0.4948 - val_accuracy: 0.7969\n",
      "Epoch 52/100\n",
      "128/128 [==============================] - 0s 2ms/step - loss: 0.4989 - accuracy: 0.7958 - val_loss: 0.4949 - val_accuracy: 0.7969\n",
      "Epoch 53/100\n",
      "128/128 [==============================] - 0s 2ms/step - loss: 0.4989 - accuracy: 0.7958 - val_loss: 0.4950 - val_accuracy: 0.7969\n",
      "Epoch 54/100\n",
      "128/128 [==============================] - 0s 2ms/step - loss: 0.4990 - accuracy: 0.7958 - val_loss: 0.4947 - val_accuracy: 0.7969\n",
      "Epoch 55/100\n",
      "128/128 [==============================] - 0s 2ms/step - loss: 0.4989 - accuracy: 0.7958 - val_loss: 0.4947 - val_accuracy: 0.7969\n",
      "Epoch 56/100\n",
      "128/128 [==============================] - 0s 2ms/step - loss: 0.4990 - accuracy: 0.7958 - val_loss: 0.4949 - val_accuracy: 0.7969\n",
      "Epoch 57/100\n",
      "128/128 [==============================] - 0s 2ms/step - loss: 0.4992 - accuracy: 0.7958 - val_loss: 0.4948 - val_accuracy: 0.7969\n",
      "Epoch 58/100\n",
      "128/128 [==============================] - 0s 2ms/step - loss: 0.4990 - accuracy: 0.7958 - val_loss: 0.4947 - val_accuracy: 0.7969\n",
      "Epoch 59/100\n",
      "128/128 [==============================] - 0s 2ms/step - loss: 0.4990 - accuracy: 0.7958 - val_loss: 0.4947 - val_accuracy: 0.7969\n",
      "Epoch 60/100\n",
      "128/128 [==============================] - 0s 2ms/step - loss: 0.4990 - accuracy: 0.7958 - val_loss: 0.4947 - val_accuracy: 0.7969\n",
      "Epoch 61/100\n",
      "128/128 [==============================] - 0s 2ms/step - loss: 0.4990 - accuracy: 0.7958 - val_loss: 0.4947 - val_accuracy: 0.7969\n",
      "Epoch 62/100\n",
      "128/128 [==============================] - 0s 2ms/step - loss: 0.4990 - accuracy: 0.7958 - val_loss: 0.4949 - val_accuracy: 0.7969\n",
      "Epoch 63/100\n",
      "128/128 [==============================] - 0s 2ms/step - loss: 0.4990 - accuracy: 0.7958 - val_loss: 0.4948 - val_accuracy: 0.7969\n",
      "Epoch 64/100\n",
      "128/128 [==============================] - 0s 2ms/step - loss: 0.4990 - accuracy: 0.7958 - val_loss: 0.4948 - val_accuracy: 0.7969\n",
      "Epoch 65/100\n",
      "128/128 [==============================] - 0s 2ms/step - loss: 0.4990 - accuracy: 0.7958 - val_loss: 0.4948 - val_accuracy: 0.7969\n",
      "Epoch 66/100\n",
      "128/128 [==============================] - 0s 2ms/step - loss: 0.4990 - accuracy: 0.7958 - val_loss: 0.4947 - val_accuracy: 0.7969\n",
      "Epoch 67/100\n",
      "128/128 [==============================] - 0s 2ms/step - loss: 0.4989 - accuracy: 0.7958 - val_loss: 0.4947 - val_accuracy: 0.7969\n",
      "Epoch 68/100\n",
      "128/128 [==============================] - 0s 2ms/step - loss: 0.4989 - accuracy: 0.7958 - val_loss: 0.4948 - val_accuracy: 0.7969\n",
      "Epoch 69/100\n",
      "128/128 [==============================] - 0s 2ms/step - loss: 0.4992 - accuracy: 0.7958 - val_loss: 0.4948 - val_accuracy: 0.7969\n",
      "Epoch 70/100\n",
      "128/128 [==============================] - 0s 2ms/step - loss: 0.4990 - accuracy: 0.7958 - val_loss: 0.4948 - val_accuracy: 0.7969\n",
      "Epoch 71/100\n",
      "128/128 [==============================] - 0s 2ms/step - loss: 0.4990 - accuracy: 0.7958 - val_loss: 0.4954 - val_accuracy: 0.7969\n",
      "Epoch 72/100\n",
      "128/128 [==============================] - 0s 2ms/step - loss: 0.4990 - accuracy: 0.7958 - val_loss: 0.4948 - val_accuracy: 0.7969\n",
      "Epoch 73/100\n",
      "128/128 [==============================] - 0s 2ms/step - loss: 0.4990 - accuracy: 0.7958 - val_loss: 0.4948 - val_accuracy: 0.7969\n",
      "Epoch 74/100\n",
      "128/128 [==============================] - 0s 2ms/step - loss: 0.4989 - accuracy: 0.7958 - val_loss: 0.4948 - val_accuracy: 0.7969\n",
      "Epoch 75/100\n",
      "128/128 [==============================] - 0s 2ms/step - loss: 0.4990 - accuracy: 0.7958 - val_loss: 0.4948 - val_accuracy: 0.7969\n",
      "Epoch 76/100\n",
      "128/128 [==============================] - 0s 2ms/step - loss: 0.4989 - accuracy: 0.7958 - val_loss: 0.4948 - val_accuracy: 0.7969\n",
      "Epoch 77/100\n",
      "128/128 [==============================] - 0s 2ms/step - loss: 0.4987 - accuracy: 0.7958 - val_loss: 0.4958 - val_accuracy: 0.7969\n",
      "Epoch 78/100\n",
      "128/128 [==============================] - 0s 2ms/step - loss: 0.4991 - accuracy: 0.7958 - val_loss: 0.4948 - val_accuracy: 0.7969\n",
      "Epoch 79/100\n",
      "128/128 [==============================] - 0s 2ms/step - loss: 0.4990 - accuracy: 0.7958 - val_loss: 0.4948 - val_accuracy: 0.7969\n",
      "Epoch 80/100\n",
      "128/128 [==============================] - 0s 2ms/step - loss: 0.4988 - accuracy: 0.7958 - val_loss: 0.4949 - val_accuracy: 0.7969\n",
      "Epoch 81/100\n",
      "128/128 [==============================] - 0s 2ms/step - loss: 0.4989 - accuracy: 0.7958 - val_loss: 0.4948 - val_accuracy: 0.7969\n",
      "Epoch 82/100\n",
      "128/128 [==============================] - 0s 2ms/step - loss: 0.4993 - accuracy: 0.7958 - val_loss: 0.4948 - val_accuracy: 0.7969\n",
      "Epoch 83/100\n",
      "128/128 [==============================] - 0s 2ms/step - loss: 0.4988 - accuracy: 0.7958 - val_loss: 0.4950 - val_accuracy: 0.7969\n",
      "Epoch 84/100\n",
      "128/128 [==============================] - 0s 2ms/step - loss: 0.4989 - accuracy: 0.7958 - val_loss: 0.4950 - val_accuracy: 0.7969\n",
      "Epoch 85/100\n",
      "128/128 [==============================] - 0s 2ms/step - loss: 0.4990 - accuracy: 0.7958 - val_loss: 0.4950 - val_accuracy: 0.7969\n",
      "Epoch 86/100\n",
      "128/128 [==============================] - 0s 2ms/step - loss: 0.4988 - accuracy: 0.7958 - val_loss: 0.4952 - val_accuracy: 0.7969\n",
      "Epoch 87/100\n",
      "128/128 [==============================] - 0s 2ms/step - loss: 0.4990 - accuracy: 0.7958 - val_loss: 0.4950 - val_accuracy: 0.7969\n",
      "Epoch 88/100\n",
      "128/128 [==============================] - 0s 2ms/step - loss: 0.4987 - accuracy: 0.7958 - val_loss: 0.4954 - val_accuracy: 0.7969\n",
      "Epoch 89/100\n",
      "128/128 [==============================] - 0s 2ms/step - loss: 0.4986 - accuracy: 0.7958 - val_loss: 0.4953 - val_accuracy: 0.7969\n",
      "Epoch 90/100\n",
      "128/128 [==============================] - 0s 3ms/step - loss: 0.4990 - accuracy: 0.7958 - val_loss: 0.4950 - val_accuracy: 0.7969\n",
      "Epoch 91/100\n",
      "128/128 [==============================] - 0s 2ms/step - loss: 0.4988 - accuracy: 0.7958 - val_loss: 0.4951 - val_accuracy: 0.7969\n",
      "Epoch 92/100\n",
      "128/128 [==============================] - 0s 2ms/step - loss: 0.4987 - accuracy: 0.7958 - val_loss: 0.4951 - val_accuracy: 0.7969\n",
      "Epoch 93/100\n",
      "128/128 [==============================] - 0s 2ms/step - loss: 0.4989 - accuracy: 0.7958 - val_loss: 0.4951 - val_accuracy: 0.7969\n",
      "Epoch 94/100\n",
      "128/128 [==============================] - 0s 2ms/step - loss: 0.4990 - accuracy: 0.7958 - val_loss: 0.4950 - val_accuracy: 0.7969\n",
      "Epoch 95/100\n",
      "128/128 [==============================] - 0s 2ms/step - loss: 0.4987 - accuracy: 0.7958 - val_loss: 0.4955 - val_accuracy: 0.7969\n",
      "Epoch 96/100\n",
      "128/128 [==============================] - 0s 2ms/step - loss: 0.4992 - accuracy: 0.7958 - val_loss: 0.4950 - val_accuracy: 0.7969\n",
      "Epoch 97/100\n",
      "128/128 [==============================] - 0s 2ms/step - loss: 0.4992 - accuracy: 0.7958 - val_loss: 0.4949 - val_accuracy: 0.7969\n",
      "Epoch 98/100\n",
      "128/128 [==============================] - 0s 2ms/step - loss: 0.4991 - accuracy: 0.7958 - val_loss: 0.4949 - val_accuracy: 0.7969\n",
      "Epoch 99/100\n",
      "128/128 [==============================] - 0s 2ms/step - loss: 0.4990 - accuracy: 0.7958 - val_loss: 0.4945 - val_accuracy: 0.7969\n",
      "Epoch 100/100\n",
      "128/128 [==============================] - 0s 2ms/step - loss: 0.4990 - accuracy: 0.7958 - val_loss: 0.4946 - val_accuracy: 0.7969\n"
     ]
    }
   ],
   "source": [
    "history = model.fit(X_train,y_train,batch_size=50,epochs=100,verbose=1,validation_split=0.2)"
   ]
  },
  {
   "cell_type": "code",
   "execution_count": 17,
   "metadata": {
    "execution": {
     "iopub.execute_input": "2022-03-06T03:36:33.569903Z",
     "iopub.status.busy": "2022-03-06T03:36:33.569599Z",
     "iopub.status.idle": "2022-03-06T03:36:33.770856Z",
     "shell.execute_reply": "2022-03-06T03:36:33.770114Z",
     "shell.execute_reply.started": "2022-03-06T03:36:33.569868Z"
    }
   },
   "outputs": [],
   "source": [
    "y_pred = model.predict(X_test)"
   ]
  },
  {
   "cell_type": "code",
   "execution_count": 18,
   "metadata": {
    "execution": {
     "iopub.execute_input": "2022-03-06T03:36:43.782192Z",
     "iopub.status.busy": "2022-03-06T03:36:43.781671Z",
     "iopub.status.idle": "2022-03-06T03:36:43.789507Z",
     "shell.execute_reply": "2022-03-06T03:36:43.788484Z",
     "shell.execute_reply.started": "2022-03-06T03:36:43.782156Z"
    }
   },
   "outputs": [
    {
     "data": {
      "text/plain": [
       "array([[0.24310449],\n",
       "       [0.24310449],\n",
       "       [0.24292934],\n",
       "       ...,\n",
       "       [0.24292934],\n",
       "       [0.25320342],\n",
       "       [0.24310449]], dtype=float32)"
      ]
     },
     "execution_count": 18,
     "metadata": {},
     "output_type": "execute_result"
    }
   ],
   "source": [
    "y_pred"
   ]
  },
  {
   "cell_type": "code",
   "execution_count": 19,
   "metadata": {
    "execution": {
     "iopub.execute_input": "2022-03-06T03:36:53.420271Z",
     "iopub.status.busy": "2022-03-06T03:36:53.419840Z",
     "iopub.status.idle": "2022-03-06T03:36:53.425184Z",
     "shell.execute_reply": "2022-03-06T03:36:53.424317Z",
     "shell.execute_reply.started": "2022-03-06T03:36:53.420233Z"
    }
   },
   "outputs": [],
   "source": [
    "y_pred = y_pred.argmax(axis=-1)"
   ]
  },
  {
   "cell_type": "code",
   "execution_count": 20,
   "metadata": {
    "execution": {
     "iopub.execute_input": "2022-03-06T03:37:01.490157Z",
     "iopub.status.busy": "2022-03-06T03:37:01.489866Z",
     "iopub.status.idle": "2022-03-06T03:37:01.498513Z",
     "shell.execute_reply": "2022-03-06T03:37:01.497608Z",
     "shell.execute_reply.started": "2022-03-06T03:37:01.490129Z"
    }
   },
   "outputs": [
    {
     "data": {
      "text/plain": [
       "0.7975"
      ]
     },
     "execution_count": 20,
     "metadata": {},
     "output_type": "execute_result"
    }
   ],
   "source": [
    "from sklearn.metrics import accuracy_score\n",
    "accuracy_score(y_test,y_pred)"
   ]
  },
  {
   "cell_type": "code",
   "execution_count": 21,
   "metadata": {
    "execution": {
     "iopub.execute_input": "2022-03-06T03:37:10.534504Z",
     "iopub.status.busy": "2022-03-06T03:37:10.534076Z",
     "iopub.status.idle": "2022-03-06T03:37:10.742592Z",
     "shell.execute_reply": "2022-03-06T03:37:10.741662Z",
     "shell.execute_reply.started": "2022-03-06T03:37:10.534473Z"
    }
   },
   "outputs": [
    {
     "data": {
      "text/plain": [
       "[<matplotlib.lines.Line2D at 0x7f2e546fdad0>]"
      ]
     },
     "execution_count": 21,
     "metadata": {},
     "output_type": "execute_result"
    },
    {
     "data": {
      "image/png": "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\n",
      "text/plain": [
       "<Figure size 432x288 with 1 Axes>"
      ]
     },
     "metadata": {
      "needs_background": "light"
     },
     "output_type": "display_data"
    }
   ],
   "source": [
    "import matplotlib.pyplot as plt\n",
    "\n",
    "plt.plot(history.history['loss'])\n",
    "plt.plot(history.history['val_loss'])"
   ]
  },
  {
   "cell_type": "code",
   "execution_count": 22,
   "metadata": {
    "execution": {
     "iopub.execute_input": "2022-03-06T03:37:24.164195Z",
     "iopub.status.busy": "2022-03-06T03:37:24.163624Z",
     "iopub.status.idle": "2022-03-06T03:37:24.378329Z",
     "shell.execute_reply": "2022-03-06T03:37:24.377501Z",
     "shell.execute_reply.started": "2022-03-06T03:37:24.164150Z"
    }
   },
   "outputs": [
    {
     "data": {
      "text/plain": [
       "[<matplotlib.lines.Line2D at 0x7f2e54d9c4d0>]"
      ]
     },
     "execution_count": 22,
     "metadata": {},
     "output_type": "execute_result"
    },
    {
     "data": {
      "image/png": "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\n",
      "text/plain": [
       "<Figure size 432x288 with 1 Axes>"
      ]
     },
     "metadata": {
      "needs_background": "light"
     },
     "output_type": "display_data"
    }
   ],
   "source": [
    "plt.plot(history.history['accuracy'])\n",
    "plt.plot(history.history['val_accuracy'])"
   ]
  },
  {
   "cell_type": "code",
   "execution_count": null,
   "metadata": {},
   "outputs": [],
   "source": []
  }
 ],
 "metadata": {
  "kernelspec": {
   "display_name": "Python 3 (ipykernel)",
   "language": "python",
   "name": "python3"
  },
  "language_info": {
   "codemirror_mode": {
    "name": "ipython",
    "version": 3
   },
   "file_extension": ".py",
   "mimetype": "text/x-python",
   "name": "python",
   "nbconvert_exporter": "python",
   "pygments_lexer": "ipython3",
   "version": "3.9.13"
  }
 },
 "nbformat": 4,
 "nbformat_minor": 4
}
